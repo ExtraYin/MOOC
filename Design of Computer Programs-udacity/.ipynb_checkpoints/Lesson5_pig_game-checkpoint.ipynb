{
 "cells": [
  {
   "cell_type": "code",
   "execution_count": 1,
   "metadata": {
    "collapsed": true
   },
   "outputs": [],
   "source": [
    "import random\n",
    "from functools import update_wrapper\n",
    "\n",
    "def decorator(d):\n",
    "    \"Make function d a decorator: d wraps a function fn.\"\n",
    "    def _d(fn):\n",
    "        return update_wrapper(d(fn), fn)\n",
    "    update_wrapper(_d, d)\n",
    "    return _d\n",
    "\n",
    "@decorator\n",
    "def memo(f):\n",
    "    \"\"\"Decorator that caches the return value for each call to f(args).\n",
    "    Then when called again with same args, we can just look it up.\"\"\"\n",
    "    cache = {}\n",
    "    def _f(*args):\n",
    "        try:\n",
    "            return cache[args]\n",
    "        except KeyError:\n",
    "            cache[args] = result = f(*args)\n",
    "            return result\n",
    "        except TypeError:\n",
    "            # some element of args can't be a dict key\n",
    "            return f(args)\n",
    "    return _f"
   ]
  },
  {
   "cell_type": "code",
   "execution_count": 9,
   "metadata": {
    "collapsed": false
   },
   "outputs": [],
   "source": [
    "other = {1:0, 0:1}\n",
    "goal = 40\n",
    "\n",
    "def dierolls():\n",
    "    \"Generate die rolls.\"\n",
    "    while True:\n",
    "        yield random.randint(1, 6)\n",
    "\n",
    "def play_pig(A, B, dierolls=dierolls(), debug=False):\n",
    "    \"\"\"Play a game of pig between two players, represented by their strategies.\n",
    "    Each time through the main loop we ask the current player for one decision,\n",
    "    which must be 'hold' or 'roll', and we update the state accordingly.\n",
    "    When one player's score exceeds the goal, return that player.\"\"\"\n",
    "    strategies = [A, B]\n",
    "    state = (0, 0, 0, 0)\n",
    "    while True:\n",
    "        (p, me, you, pending) = state\n",
    "        if debug: print state\n",
    "        if me >= goal:\n",
    "            if debug: print strategies[p].__name__\n",
    "            return strategies[p]\n",
    "        elif you >= goal:\n",
    "            if debug: print strategies[other[p]].__name__\n",
    "            return strategies[other[p]]\n",
    "        elif strategies[p](state) == 'hold':\n",
    "            if debug: print \"Player\", p, \"hold\"\n",
    "            state = hold(state)\n",
    "        elif strategies[p](state) == 'roll':\n",
    "            if debug: print \"Player\", p, \"roll\"\n",
    "            state = roll(state, next(dierolls))\n",
    "        else:\n",
    "            if debug: print \"unknown operation\"\n",
    "            return strategies[other[p]]\n",
    "\n",
    "def roll(state, d):\n",
    "    \"\"\"Apply the roll action to a state (and a die roll d) to yield a new state:\n",
    "    If d is 1, get 1 point (losing any accumulated 'pending' points),\n",
    "    and it is the other player's turn. If d > 1, add d to 'pending' points.\"\"\"\n",
    "    (p, me, you, pending) = state\n",
    "    if d == 1:\n",
    "        return (other[p], you, me+1, 0) # pig out; other player's turn\n",
    "    else:\n",
    "        return (p, me, you, pending+d)  # accumulate die roll in pending\n",
    "\n",
    "def hold(state):\n",
    "    \"\"\"Apply the hold action to a state to yield a new state:\n",
    "    Reap the 'pending' points and it becomes the other player's turn.\"\"\"\n",
    "    (p, me, you, pending) = state\n",
    "    return (other[p], you, me+pending, 0)\n",
    "\n",
    "def pig_actions(state):\n",
    "    \"The legal actions from a state.\"\n",
    "    _, _, _, pending = state\n",
    "    return ['roll', 'hold'] if pending else ['roll']\n",
    "\n",
    "def Q_pig(state, action, utilityFun):  \n",
    "    \"Quality: The expected value of choosing action in state.\"\n",
    "    if action == 'hold':\n",
    "        return 1 - utilityFun(hold(state))\n",
    "    if action == 'roll':\n",
    "        return (1 - utilityFun(roll(state, 1))\n",
    "                + sum(utilityFun(roll(state, d)) for d in (2,3,4,5,6))) / 6.\n",
    "    raise ValueError\n",
    "\n",
    "def best_action(state, actions, Q, U):\n",
    "    \"Return the optimal action for a state, given U.\"\n",
    "    def EU(action): return Q(state, action, U)\n",
    "    return max(actions(state), key=EU)\n",
    "\n",
    "###################################################################\n",
    "# Two utility functions                                           #\n",
    "###################################################################\n",
    "@memo        \n",
    "def probUtil(state):\n",
    "    \"\"\"The utility of a state; here just the probability that an optimal player\n",
    "    whose turn it is to move can win from the current state.\"\"\"\n",
    "    # Assumes opponent also plays with optimal strategy.\n",
    "    (p, me, you, pending) = state\n",
    "    if me + pending >= goal:\n",
    "        return 1\n",
    "    elif you >= goal:\n",
    "        return 0\n",
    "    else:\n",
    "        return max(Q_pig(state, action, probUtil)\n",
    "                   for action in pig_actions(state))\n",
    "\n",
    "@memo\n",
    "def diffUtil(state):\n",
    "    \"The utility of a state: here the winning differential (pos or neg).\"\n",
    "    (p, me, you, pending) = state\n",
    "    if me + pending >= goal or you >= goal:\n",
    "        return (me + pending - you)\n",
    "    else:\n",
    "        return max(Q_pig(state, action, diffUtil)\n",
    "                   for action in pig_actions(state))\n",
    "\n",
    "###################################################################\n",
    "# Two different strategies:                                       #\n",
    "# The first one maximize the probability of wining a game         #\n",
    "# The second one maximize the difference of the scores            #\n",
    "###################################################################\n",
    "def max_wins(state):\n",
    "    \"The optimal pig strategy chooses an action with the highest win probability.\"\n",
    "    return best_action(state, pig_actions, Q_pig, probUtil)\n",
    "\n",
    "def max_diffs(state):\n",
    "    \"\"\"A strategy that maximizes the expected difference between my final score\n",
    "    and my opponent's.\"\"\"\n",
    "    # your code here\n",
    "    return best_action(state, pig_actions, Q_pig, diffUtil)"
   ]
  },
  {
   "cell_type": "code",
   "execution_count": 19,
   "metadata": {
    "collapsed": false
   },
   "outputs": [
    {
     "data": {
      "text/plain": [
       "Counter({'max_diffs': 412, 'max_wins': 588})"
      ]
     },
     "execution_count": 19,
     "metadata": {},
     "output_type": "execute_result"
    }
   ],
   "source": [
    "import collections\n",
    "collections.Counter(play_pig(max_wins, max_diffs).__name__ for _ in range(1000))"
   ]
  },
  {
   "cell_type": "code",
   "execution_count": 7,
   "metadata": {
    "collapsed": false
   },
   "outputs": [
    {
     "name": "stdout",
     "output_type": "stream",
     "text": [
      "tests pass\n",
      "tests pass\n"
     ]
    }
   ],
   "source": [
    "def test_wins():\n",
    "    assert(max_wins((1, 5, 34, 4)))   == \"roll\"\n",
    "    assert(max_wins((1, 18, 27, 8)))  == \"roll\"\n",
    "    assert(max_wins((0, 23, 8, 8)))   == \"roll\"\n",
    "    assert(max_wins((0, 31, 22, 9)))  == \"hold\"\n",
    "    assert(max_wins((1, 11, 13, 21))) == \"roll\"\n",
    "    assert(max_wins((1, 33, 16, 6)))  == \"roll\"\n",
    "    assert(max_wins((1, 12, 17, 27))) == \"roll\"\n",
    "    assert(max_wins((1, 9, 32, 5)))   == \"roll\"\n",
    "    assert(max_wins((0, 28, 27, 5)))  == \"roll\"\n",
    "    assert(max_wins((1, 7, 26, 34)))  == \"hold\"\n",
    "    assert(max_wins((1, 20, 29, 17))) == \"roll\"\n",
    "    assert(max_wins((0, 34, 23, 7)))  == \"hold\"\n",
    "    assert(max_wins((0, 30, 23, 11))) == \"hold\"\n",
    "    assert(max_wins((0, 22, 36, 6)))  == \"roll\"\n",
    "    assert(max_wins((0, 21, 38, 12))) == \"roll\"\n",
    "    assert(max_wins((0, 1, 13, 21)))  == \"roll\"\n",
    "    assert(max_wins((0, 11, 25, 14))) == \"roll\"\n",
    "    assert(max_wins((0, 22, 4, 7)))   == \"roll\"\n",
    "    assert(max_wins((1, 28, 3, 2)))   == \"roll\"\n",
    "    assert(max_wins((0, 11, 0, 24)))  == \"roll\"\n",
    "    return 'tests pass'\n",
    "\n",
    "def test_diff():\n",
    "    # The first three test cases are examples where max_wins and\n",
    "    # max_diffs return the same action.\n",
    "    assert(max_diffs((1, 26, 21, 15))) == \"hold\"\n",
    "    assert(max_diffs((1, 23, 36, 7)))  == \"roll\"\n",
    "    assert(max_diffs((0, 29, 4, 3)))   == \"roll\"\n",
    "    # The remaining test cases are examples where max_wins and\n",
    "    # max_diffs return different actions.\n",
    "    assert(max_diffs((0, 36, 32, 5)))  == \"roll\"\n",
    "    assert(max_diffs((1, 37, 16, 3)))  == \"roll\"\n",
    "    assert(max_diffs((1, 33, 39, 7)))  == \"roll\"\n",
    "    assert(max_diffs((0, 7, 9, 18)))   == \"hold\"\n",
    "    assert(max_diffs((1, 0, 35, 35)))  == \"hold\"\n",
    "    assert(max_diffs((0, 36, 7, 4)))   == \"roll\"\n",
    "    assert(max_diffs((1, 5, 12, 21)))  == \"hold\"\n",
    "    assert(max_diffs((0, 3, 13, 27)))  == \"hold\"\n",
    "    assert(max_diffs((0, 0, 39, 37)))  == \"hold\"\n",
    "    return 'tests pass'\n",
    "\n",
    "print test_wins()\n",
    "print test_diff()"
   ]
  },
  {
   "cell_type": "code",
   "execution_count": null,
   "metadata": {
    "collapsed": true
   },
   "outputs": [],
   "source": []
  }
 ],
 "metadata": {
  "anaconda-cloud": {},
  "kernelspec": {
   "display_name": "Python [default]",
   "language": "python",
   "name": "python2"
  },
  "language_info": {
   "codemirror_mode": {
    "name": "ipython",
    "version": 2
   },
   "file_extension": ".py",
   "mimetype": "text/x-python",
   "name": "python",
   "nbconvert_exporter": "python",
   "pygments_lexer": "ipython2",
   "version": "2.7.12"
  }
 },
 "nbformat": 4,
 "nbformat_minor": 2
}
